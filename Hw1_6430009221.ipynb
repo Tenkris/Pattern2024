{
 "cells": [
  {
   "cell_type": "markdown",
   "metadata": {},
   "source": [
    "\n",
    "# Hello Clustering\n",
    "Recall from lecture that K-means has two main steps: the points assignment\n",
    "step, and the mean update step. After the initialization of the centroids, we\n",
    "assign each data point to a centroid. Then, each centroids are updated by\n",
    "re-estimating the means.\n",
    "Concretely, if we are given N data points, x1, x2, ..., xN , and we would like\n",
    "to form K clusters. We do the following;\n",
    "1. Initialization: Pick K random data points as K centroid locations c1,\n",
    "c2, ..., cK .\n",
    "2. Assign: For each data point k, find the closest centroid. Assign that\n",
    "data point to the centroid. The distance used is typically Euclidean distance.\n",
    "3. Update: For each centroid, calculate the mean from the data points\n",
    "assigned to it.\n",
    "4. Repeat: repeat step 2 and 3 until the centroids stop changing (conver-\n",
    "gence).\n",
    "Given the following data points in x-y coordinates (2 dimensional)\n",
    "\n"
   ]
  },
  {
   "cell_type": "code",
   "execution_count": 1,
   "metadata": {},
   "outputs": [],
   "source": [
    "import numpy as np \n",
    "import pandas as pd \n",
    "import matplotlib.pyplot as plt "
   ]
  },
  {
   "cell_type": "code",
   "execution_count": 2,
   "metadata": {},
   "outputs": [],
   "source": [
    "# x y\n",
    "# 1 2\n",
    "# 3 3\n",
    "# 2 2\n",
    "# 8 8\n",
    "# 6 6\n",
    "# 7 7\n",
    "# -3 -3\n",
    "# -2 -4\n",
    "# -7 -7 \n",
    "# generate a list of points \n",
    "points = [(1,2),(3,3),(2,2),(8,8),(6,6),(7,7),(-3,-3),(-2,-4),(-7,-7)] \n"
   ]
  },
  {
   "cell_type": "code",
   "execution_count": 3,
   "metadata": {},
   "outputs": [
    {
     "data": {
      "text/plain": [
       "<matplotlib.collections.PathCollection at 0x15aa6a210>"
      ]
     },
     "execution_count": 3,
     "metadata": {},
     "output_type": "execute_result"
    },
    {
     "data": {
      "image/png": "[encoded data removed]",
      "text/plain": [
       "<Figure size 640x480 with 1 Axes>"
      ]
     },
     "metadata": {},
     "output_type": "display_data"
    }
   ],
   "source": [
    "# plot the points \n",
    "x = [p[0] for p in points]\n",
    "y = [p[1] for p in points]\n",
    "plt.scatter(x,y)"
   ]
  },
  {
   "cell_type": "code",
   "execution_count": 4,
   "metadata": {},
   "outputs": [],
   "source": [
    "# kmean cluster algorithm \n",
    "# 1. randomly select k points as centroids\n",
    "# 2. assign each point to the closest centroid\n",
    "# 3. calculate the new centroids\n",
    "# 4. repeat 2 and 3 until the centroids don't change\n",
    "# 5. the points in the same cluster are the points that are closest to the same centroid\n",
    "# 6. the number of clusters is k"
   ]
  },
  {
   "cell_type": "code",
   "execution_count": 5,
   "metadata": {},
   "outputs": [
    {
     "name": "stdout",
     "output_type": "stream",
     "text": [
      "[[[ 1  2]]\n",
      "\n",
      " [[ 3  3]]\n",
      "\n",
      " [[ 2  2]]\n",
      "\n",
      " [[ 8  8]]\n",
      "\n",
      " [[ 6  6]]\n",
      "\n",
      " [[ 7  7]]\n",
      "\n",
      " [[-3 -3]]\n",
      "\n",
      " [[-2 -4]]\n",
      "\n",
      " [[-7 -7]]]\n",
      "-------\n",
      "[[[0 0]\n",
      "  [1 1]]]\n",
      "[[ 2.23606798  1.        ]\n",
      " [ 4.24264069  2.82842712]\n",
      " [ 2.82842712  1.41421356]\n",
      " [11.3137085   9.89949494]\n",
      " [ 8.48528137  7.07106781]\n",
      " [ 9.89949494  8.48528137]\n",
      " [ 4.24264069  5.65685425]\n",
      " [ 4.47213595  5.83095189]\n",
      " [ 9.89949494 11.3137085 ]]\n"
     ]
    }
   ],
   "source": [
    "points = [(1,2),(3,3),(2,2),(8,8),(6,6),(7,7),(-3,-3),(-2,-4),(-7,-7)] \n",
    "import numpy as np\n",
    "\n",
    "def kcluster(points, centroids):\n",
    "    points = np.array(points)\n",
    "    centroids = np.array(centroids)\n",
    "    \n",
    "    # Expand dimensions of points and centroids for broadcasting\n",
    "    points_exp = np.expand_dims(points, axis=1)\n",
    "    centroids_exp = np.expand_dims(centroids, axis=0)\n",
    "    \n",
    "    print(points_exp) \n",
    "    print(\"-------\")\n",
    "    print(centroids_exp)\n",
    "    # Calculate the Euclidean distance between each point and each centroid\n",
    "    distances = np.linalg.norm(points_exp - centroids_exp, axis=2)\n",
    "    \n",
    "    return distances\n",
    "print(kcluster(points, [(0,0), (1,1)]))"
   ]
  }
 ],
 "metadata": {
  "kernelspec": {
   "display_name": "pattern",
   "language": "python",
   "name": "python3"
  },
  "language_info": {
   "codemirror_mode": {
    "name": "ipython",
    "version": 3
   },
   "file_extension": ".py",
   "mimetype": "text/x-python",
   "name": "python",
   "nbconvert_exporter": "python",
   "pygments_lexer": "ipython3",
   "version": "3.12.1"
  }
 },
 "nbformat": 4,
 "nbformat_minor": 2
}
